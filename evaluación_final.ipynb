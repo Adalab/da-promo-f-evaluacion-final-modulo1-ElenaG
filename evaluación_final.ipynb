{
 "cells": [
  {
   "cell_type": "code",
   "execution_count": 269,
   "metadata": {},
   "outputs": [],
   "source": [
    "class TiendaOnline:\n",
    "    \n",
    "    def __init__ (self, inventario = [], clientes = {}, ventas_totales = float (0) ):       #Creo el método constructorlos con sus atributos \n",
    "        self.inventario = inventario #Este atributo es para almacenar los productos. Es una lista de diccionarios con las claves nombre, precio y cantidad\n",
    "        self.clientes = clientes    #Este atributo es para registrar los clientes. Es un diccionario de diccionarios con las claves: nombre, email e historial de compras\n",
    "        self.ventas_totales = ventas_totales #Este atributo es para registrar las ventas totales. Debe ser un numero float, por ello hay que convertirlo a \"float\"\n",
    "\n",
    "    \n",
    "    def agregar_producto (self, nombre, precio, cantidad): #MÉTODO1. Agregar producto\n",
    "\n",
    "        if len (self.inventario) > 0:  #Como al ppio, la lista está vacia, no es posible iterar en el diccionario por lo que primero añado una condición de que cdo haya al menos un elemento, empiece a iterar y si no lo hay, que añada un elemento (bloque \"else\" al final de la función)\n",
    "            \n",
    "            for producto in self.inventario:    #Itero en cada diccionario de mi lista\n",
    "\n",
    "                if nombre in producto.values():  #Si el producto existiese en nuestra base de datos, actualizo únicamente la cantidad del producto\n",
    "                    producto [\"cantidad\"] += cantidad \n",
    "                    print (f\"El producto {nombre} ya existía. La cantidad ha sido actualizada a {cantidad}\")            \n",
    "                    return print (f\"Estos son todos los productos de tu inventario: \\n {self.inventario}\")\n",
    "\n",
    "            else:                                   #Para no duplicar elementos, el \"else\" lo incluyo fuera del if, al nivel del for            \n",
    "                producto_nuevo = {\"nombre\": nombre, \"precio\": precio, \"cantidad\": cantidad} \n",
    "                self.inventario.append (producto_nuevo) #Si el producto no existe en los diccionarios de la lista, lo añado utilizando el método de listas \"append\" y dentro el diccionario que quiero añadir (variable denominada \"nuevo_producto\")\n",
    "                print (f\"El producto {nombre} se ha agregado con éxito\")\n",
    "                return print (f\"Estos son todos los productos de tu inventario: \\n {self.inventario}\")\n",
    "\n",
    "\n",
    "        else:                                                                             #Cdo la lista está vacía, creo un producto como en el caso de arriba, utilizando el método para añadir elementos a una lista\n",
    "            producto_nuevo = {\"nombre\": nombre, \"precio\": precio, \"cantidad\": cantidad} \n",
    "            self.inventario.append (producto_nuevo)\n",
    "            print (f\"El producto {nombre} se ha agregado con éxito\")\n",
    "            return print (f\"Estos son todos los productos de tu inventario:\\n{self.inventario}\")\n",
    "\n",
    "    \n",
    "    def ver_inventario (self):  #MÉTODO 2. Ver inventario\n",
    "\n",
    "        if len (self.inventario) < 0:\n",
    "            print (\"No hay ningún producto en tu inventario. Añade productos primero a tu inventario\")\n",
    "        \n",
    "        else:\n",
    "            for producto in self.inventario:\n",
    "                for k, v in producto.items():\n",
    "                    print (\"{}:{}\".format(k,v))\n",
    "                print (\"_________\\n\") #Lo pongo fuera del for para que imprima una línea una vez deje de iterar entre todas las keys y valores del mismo diccionario\n",
    "                    \n",
    "    \n",
    "    def buscar_producto (self, nombre):  #MÉTODO 3. Buscar_producto\n",
    "        for producto in self.inventario: \n",
    "            if nombre in producto.values():\n",
    "                print (producto)\n",
    "                        \n",
    "\n",
    "    def actualizar_stock (self, nombre, cantidad): #MÉTODO 4. Actualizar stock\n",
    "        for producto in self.inventario:    #Itero en cada diccionario de mi lista\n",
    "            if nombre in producto.values():  #Si el producto existiese en la base de datos, actualizo la cantidad del producto con la proporcionada (se entiende que no se añade, tan sólo se actualiza con la dada)\n",
    "                producto [\"cantidad\"] = cantidad \n",
    "                print (f\"La cantidad del producto {nombre} se ha actualizado a {cantidad} unidades\") \n",
    "                print (producto)           \n",
    "                return self.inventario\n",
    "        else:                                             \n",
    "            print (f\"El producto {nombre} no existe en el inventario. Los productos en el inventario son:\\n {self.inventario}\")\n",
    "\n",
    "    \n",
    "    def eliminar_producto (self, nombre): #MÉTODO 5. Eliminar producto\n",
    "        for producto in self.inventario: #Iteramos primero en cada diccionario/producto del inventario\n",
    "            if nombre in producto.values():\n",
    "                self.inventario.remove(producto) #Si el producto existe en el inventario, eliminamos el producto utilizando el método \"remove\" de listas  \n",
    "                print (f\"El producto {nombre} se ha eliminado con éxito\")  \n",
    "                return self.inventario\n",
    "        else:\n",
    "            print (f\"El producto {nombre} no existe en el inventario\")\n",
    "\n",
    "    \n",
    "    def calcular_valor_inventario (self): #MÉTODO 6. Calcular el valor del inventario\n",
    "        \n",
    "        valor_total = 0\n",
    "\n",
    "        for producto in self.inventario:  #Itero por cada diccionario(producto) del inventario\n",
    "            precio_unitario = producto[\"precio\"] #y por cada producto en el inventario, extraigo su precio\n",
    "            cantidad_producto = producto[\"cantidad\"] #y cantidad\n",
    "            valor_total += precio_unitario * cantidad_producto #y calculo el total de cada producto, multiplicando precio por cantidad que se añade al valor total y así consecutivamente con todos los productos\n",
    "        \n",
    "        print (f\"El valor total del inventario es de {valor_total} euros\") #Printeo el valor total del inventario y para que no me salga tan sólo el último, lo pongo fuera del for\n",
    "                \n",
    "        return valor_total\n",
    "\n",
    "    \n",
    "    def buscar_producto_regex (self, patron): #MÉTODO 7. Productos que coincidan con un patrón\n",
    "        \n",
    "        import re # Importo regex\n",
    "        lista_productos = []  #Creo una lista vacía donde se van a ir añadiendo mis coincidencias ****Se podría poner debajo del segundo \"if\"???\n",
    "        \n",
    "        for producto in self.inventario:\n",
    "            \n",
    "            coincidencia = re.findall (patron, producto.get(\"nombre\")) #utilizo el método findall para que me busque en todos los productos (valor nombre) de cada uno de los diccionarios de la lista\n",
    "\n",
    "            if len (coincidencia) > 0:             #Si existe alguna coincidencia con el patrón (hay algo en \"coincidencia\" ya que la longitud es mayor que cero), añado esa coincidencia (el nombre del producto) a la lista vacía definida al ppio de la función\n",
    "                lista_productos.append(coincidencia)\n",
    "            \n",
    "            else:\n",
    "                pass\n",
    "                \n",
    "        print (f\"Se han encontrado las siguientes coincidencias que coinciden con el patron indicado ({patron}): {lista_productos}\")\n",
    "\n",
    "        return lista_productos\n",
    "    \n",
    "    \n",
    "    def realizar_compra (self): #MÉTODO 8. Realizar comprar\n",
    "              \n",
    "        productos_mostrar = []\n",
    "            \n",
    "        for producto in self.inventario:  #Para crear un listado de los productos que tengo en el inventario, primero creo una lista vacia para que se vayan añadiendo los productos cuando itero los diferentes diccionarios\n",
    "            productos_mostrar.append(producto[\"nombre\"]) #Añado el nombre de los productos a la lista\n",
    "        #print (productos_mostrar) \n",
    "           \n",
    "        \n",
    "        quiere_compra = input(f\"¿Quiere comprar algo? Y/N\").lower()  #Empiezo la interacción con el usuario, preguntando si quiere comprar. Si la opción es sí, se abrirá el bucle \"while\" que permitirá al cliente comprar todas las veces que quiera\n",
    "        carrito = {} #creo esta variable, dondevoy a ir añadiendo los productos y cantidades indicados por el cliente, y también el precio de los mismos, buscando el precio de los productos en el diccionario\n",
    "                \n",
    "        while quiere_compra == \"y\":\n",
    "            \n",
    "            seleccion = input(f\"¿Qué producto desea comprar? \\n Productos disponibles: {productos_mostrar}\").lower()             \n",
    "           \n",
    "            if seleccion in productos_mostrar:   #Si el producto seleccionado por el cliente, lo vendemos en la tienda...\n",
    "                cantidad_carrito = int (input(f\"¿Cuántos quiere comprar?\")) #vamos a preguntar al cliente la cantidad que quiere\n",
    "                for producto in self.inventario:   #y vamos a extraer el precio del producto que está en el inventario\n",
    "                    if producto[\"nombre\"] == seleccion:\n",
    "                        carrito.update ({seleccion : {\"cantidad\":cantidad_carrito, \"precio\": producto[\"precio\"]}}) #Añado toda la información del producto al carrito\n",
    "                          \n",
    "            else:\n",
    "                print(f\"El producto introducido no existe\", flush=True)\n",
    "            \n",
    "            print (f\"Su carrito contiene los siguientes productos: {carrito}\", flush=True)\n",
    "            quiere_compra = input(f\"¿Quiere comprar algo más? Y/N\").lower()\n",
    "        \n",
    "        if quiere_compra == \"n\":\n",
    "            finalizar_compra = input(\"¿Desea finalizar la compra y pagar? Y/N\").lower() \n",
    "\n",
    "            if finalizar_compra == \"y\":\n",
    "                costo_total = 0 #creo esta variable, a donde se va a ir sumando las compras del cliente\n",
    "                \n",
    "                for k, v in carrito.items(): #itero por el carrito para estraer las cantidades y precios\n",
    "                    costo_total += v[\"cantidad\"] * v[\"precio\"]        \n",
    "\n",
    "            print(f\"El costo total de su compra es de {costo_total} EUR\")\n",
    "        \n",
    "        return\n",
    "\n",
    "    \n",
    "    def procesar_pago (self): #MÉTODO 9. Procesar pago\n",
    "    \n",
    "        try:                                                                           #Dentro del try incluyo las variables que pueden generar un error que ente caso al preguntar al usuario por una cantidad, nos de otra cosa (ej. palabra)\n",
    "            cuenta = float(input(\"Por favor, introduzca la cantidad total a pagar\"))\n",
    "            print (f\"El monto introducido a pagar es de {cuenta} EUR\", flush=True)\n",
    "            pago = float(input(\"Por favor, introduzca el dinero para saldar la cuenta\"))\n",
    "            print (f\"La cantidad para pagar introducida es de {pago} EUR\", flush=True)\n",
    "\n",
    "\n",
    "        except ValueError:                                  #Bajo \"except\" pongo los errores que se pueden generar cuando el usuario debiera incluir un número y el mensaje que le aparecería en caso de error\n",
    "            print (\"Ha introducido un valor incorrecto. Por favor, introduce un valor numérico\", flush=Tru) \n",
    "        \n",
    "        else:   #Si no se produce ningún error porque el usuario introduce una cantidades válidas en \"cuenta\" y \"pago\", y por tanto no se ejecuta el código bajo \"except\", se ejecutará este código bajo \"else\"\n",
    "            cambio = float (pago - cuenta)  #Calculo el cambio \n",
    "\n",
    "            if cambio == 0:              #Si el cambio es igual a cero y no hay cambio, muestro un mensaje de éxito\n",
    "                print (f\"Su pago se ha realizado correctamente. Muchas gracias por comprar con nosotros.\", flush=True)\n",
    "            \n",
    "            elif cambio > 0:             #Si hay cambio para el cliente, lo muestro en el mensaje de confirmación de compra\n",
    "                print (f\"Su pago se ha realizado correctamente. Su cambio es de {cambio} EUR. Muchas gracias por comprar con nosotros.\",flush=True) #Si hay cambio para el cliente, lo muestro en el mensaje de confirmación de compra)\n",
    "            \n",
    "            else:                          #Si la cantidad para saldar la compra es insuficiente, muestro un mensaje de monto insuficiente\n",
    "                print (f\"El monto es insuficiente para realizar la compra de {cuenta} EUR. Por favor, introduzca una cantidad suficiente\", flush=Truev)\n",
    "\n",
    "    \n",
    "    def agregar_cliente (self, nombre, email):  #MÉTODO 10. Agregar cliente\n",
    "    \n",
    "        if nombre not in self.clientes.values(): ##Si el cliente no existe, se añade a la base de datos utilizando el método de diccionarios\n",
    "            cliente = {nombre: {\"email\": email}} #utilizo la estructura de diccionario indicada en el enunciado, donde la key es el nombre del cliente\n",
    "            self.clientes.update (cliente) #Lo añado utilizando el método de update de diccionario donde se tiene que incluir la clave-valor que está indicada en la variable \"cliente              \n",
    "            print (f\"El cliente {nombre} se ha agregado con éxito\", flush=True)\n",
    "            print (self.clientes)\n",
    "            return self.clientes\n",
    "        \n",
    "        else:\n",
    "            print (f\"El cliente ({nombre}) ya está registrado en tu base de datos\", flush=True) #Si el cliente existe en la base de datos, devuelvo un mensaje indicando que ya existe\n",
    "       \n",
    "    \n",
    "    def ver_cliente (self):  #MÉTODO 11. Ver clientes\n",
    "\n",
    "        if len (self.clientes) < 0:              #Al igual que con el caso de los productos, creo una opción por si el listado de clientes estuviese vacío, para que los registre primero\n",
    "            print (\"No hay ningún cliente registrado. Por favor, registre sus clientes primero\")\n",
    "        \n",
    "        else:                                   #En el caso de que haya clientes registrado, itero por cada uno de los elementos para para mostrarselos al usuario     \n",
    "            for k,v in self.clientes.items():\n",
    "                print (\"{}:{}\".format(k,v))\n",
    "            print (\"_________\\n\") #Lo pongo fuera del for para que me separe cada uno de los clientes una vez que itere cada cliente\n",
    "\n",
    "       \n",
    "    def registrar_compra (self, nombre_cliente, carrito):  #MÉTODO 12. Registrar compra  \n",
    "         \n",
    "        for cliente in self.clientes.keys(): #Puesto que el nombre del cliente es la \"key\" del diccionario, busco entre las keys del diccionario\n",
    "\n",
    "            if cliente == nombre_cliente:\n",
    "               cliente[\"historial\"] = [carrito]   #A.Añado el carrito a la información del cliente en la base de datos (diccionario) de \"self-clientes\"\n",
    "               print (self.clientes)\n",
    "\n",
    "            total_compra = 0 #b. Ahora calcular el total de la compra. Para ello creo una variable vacía a la que se van a sumar el total de las compras en el carrito\n",
    "                    \n",
    "            for compra in carrito: #Para calcular el total de la compra, debería iterar en cada uno de los productos del carro\n",
    "                cantidad_compra = compra[\"cantidad\"] #extrigo, la cantidad y precio de los productos del carro\n",
    "                precio_carrito = compra[\"precio\"]\n",
    "                total_compra += (cantidad_carrito * precio_carrito) #y calculo su coste total\n",
    "                    \n",
    "            print (f\"El valor total de su compra es de {total_compra} EUR\")\n",
    "            return            \n",
    "\n",
    "        else:   #Si el cliente no se encuentra en la base de datos. Se printea un mensaje indicando que no existe en la BdD\n",
    "            print (f\" El cliente {nombre_cliente} no está registrado. Registre al cliente primero para poder registrar la compra\")\n",
    "\n",
    "    \n",
    "    def ver_compras (self, nombre_cliente):  #MÉTODO 13. Ver compras\n",
    "\n",
    "        for nombre_cliente in self.clientes:\n",
    "            historial_compras = self.clientes[nombre_cliente][\"historial\"]\n",
    "            print (f\"El historial de compras de {nombre_cliente} es {historial_compras}\")\n",
    "            return\n",
    "    \n",
    "    def calcular_ventas_totales (self): #MÉTODO 14. Calcular ventas totales\n",
    "        \n",
    "        self.ventas_totales = float(0)\n",
    "        \n",
    "        for cliente in self.clientes:\n",
    "            cantidad_total = cliente[\"historial\"][\"cantidad\"]\n",
    "            cantidad_total = cliente[\"historial\"][\"precio\"]\n",
    "            self.ventas_totales += (cantidad_carrito * precio_carrito)\n",
    "            \n",
    "        print (f\"Las ventas totales ascienden a {self.ventas_totales}\")\n",
    "        return self.ventas_totales\n"
   ]
  },
  {
   "cell_type": "code",
   "execution_count": 270,
   "metadata": {},
   "outputs": [
    {
     "data": {
      "text/plain": [
       "<__main__.TiendaOnline at 0x7f952a33da90>"
      ]
     },
     "execution_count": 270,
     "metadata": {},
     "output_type": "execute_result"
    }
   ],
   "source": [
    "#Instanciar la clase\n",
    "mi_tienda = TiendaOnline ()\n",
    "mi_tienda"
   ]
  },
  {
   "cell_type": "code",
   "execution_count": 271,
   "metadata": {},
   "outputs": [
    {
     "name": "stdout",
     "output_type": "stream",
     "text": [
      "El producto camisa se ha agregado con éxito\n",
      "Estos son todos los productos de tu inventario:\n",
      "[{'nombre': 'camisa', 'precio': 20, 'cantidad': 10}]\n"
     ]
    }
   ],
   "source": [
    "#Método 1. Agregar productos\n",
    "producto1 = mi_tienda.agregar_producto (nombre = \"camisa\", precio = 20, cantidad = 10)\n"
   ]
  },
  {
   "cell_type": "code",
   "execution_count": 272,
   "metadata": {},
   "outputs": [
    {
     "name": "stdout",
     "output_type": "stream",
     "text": [
      "El producto pantalon se ha agregado con éxito\n",
      "Estos son todos los productos de tu inventario: \n",
      " [{'nombre': 'camisa', 'precio': 20, 'cantidad': 10}, {'nombre': 'pantalon', 'precio': 30, 'cantidad': 5}]\n"
     ]
    }
   ],
   "source": [
    "producto2 = mi_tienda.agregar_producto (nombre = \"pantalon\", precio = 30, cantidad = 5)"
   ]
  },
  {
   "cell_type": "code",
   "execution_count": 273,
   "metadata": {},
   "outputs": [
    {
     "name": "stdout",
     "output_type": "stream",
     "text": [
      "El producto falda se ha agregado con éxito\n",
      "Estos son todos los productos de tu inventario: \n",
      " [{'nombre': 'camisa', 'precio': 20, 'cantidad': 10}, {'nombre': 'pantalon', 'precio': 30, 'cantidad': 5}, {'nombre': 'falda', 'precio': 25, 'cantidad': 12}]\n"
     ]
    }
   ],
   "source": [
    "producto3 = mi_tienda.agregar_producto (nombre = \"falda\", precio = 25, cantidad = 12)"
   ]
  },
  {
   "cell_type": "code",
   "execution_count": 274,
   "metadata": {},
   "outputs": [
    {
     "name": "stdout",
     "output_type": "stream",
     "text": [
      "El producto pantalon ya existía. La cantidad ha sido actualizada a 15\n",
      "Estos son todos los productos de tu inventario: \n",
      " [{'nombre': 'camisa', 'precio': 20, 'cantidad': 10}, {'nombre': 'pantalon', 'precio': 30, 'cantidad': 20}, {'nombre': 'falda', 'precio': 25, 'cantidad': 12}]\n"
     ]
    }
   ],
   "source": [
    "producto4 = mi_tienda.agregar_producto (nombre = \"pantalon\", precio = 30, cantidad = 15)"
   ]
  },
  {
   "cell_type": "code",
   "execution_count": 275,
   "metadata": {},
   "outputs": [
    {
     "name": "stdout",
     "output_type": "stream",
     "text": [
      "nombre:camisa\n",
      "precio:20\n",
      "cantidad:10\n",
      "_________\n",
      "\n",
      "nombre:pantalon\n",
      "precio:30\n",
      "cantidad:20\n",
      "_________\n",
      "\n",
      "nombre:falda\n",
      "precio:25\n",
      "cantidad:12\n",
      "_________\n",
      "\n"
     ]
    }
   ],
   "source": [
    "#Método 2. Ver inventario\n",
    "inventario = mi_tienda.ver_inventario()\n"
   ]
  },
  {
   "cell_type": "code",
   "execution_count": 276,
   "metadata": {},
   "outputs": [
    {
     "name": "stdout",
     "output_type": "stream",
     "text": [
      "{'nombre': 'camisa', 'precio': 20, 'cantidad': 10}\n"
     ]
    }
   ],
   "source": [
    "#Método 3. Buscar producto\n",
    "busca1 = mi_tienda.buscar_producto(\"camisa\")"
   ]
  },
  {
   "cell_type": "code",
   "execution_count": 277,
   "metadata": {},
   "outputs": [
    {
     "name": "stdout",
     "output_type": "stream",
     "text": [
      "{'nombre': 'pantalon', 'precio': 30, 'cantidad': 20}\n"
     ]
    }
   ],
   "source": [
    "busca2 = mi_tienda.buscar_producto(\"pantalon\")"
   ]
  },
  {
   "cell_type": "code",
   "execution_count": 278,
   "metadata": {},
   "outputs": [
    {
     "name": "stdout",
     "output_type": "stream",
     "text": [
      "{'nombre': 'falda', 'precio': 25, 'cantidad': 12}\n"
     ]
    }
   ],
   "source": [
    "busca3 = mi_tienda.buscar_producto(\"falda\")"
   ]
  },
  {
   "cell_type": "code",
   "execution_count": 279,
   "metadata": {},
   "outputs": [
    {
     "name": "stdout",
     "output_type": "stream",
     "text": [
      "La cantidad del producto falda se ha actualizado a 17 unidades\n",
      "{'nombre': 'falda', 'precio': 25, 'cantidad': 17}\n"
     ]
    }
   ],
   "source": [
    "#Método 4. Actualizar stock\n",
    "stock1 = mi_tienda.actualizar_stock(\"falda\", 17)"
   ]
  },
  {
   "cell_type": "code",
   "execution_count": 280,
   "metadata": {},
   "outputs": [
    {
     "name": "stdout",
     "output_type": "stream",
     "text": [
      "La cantidad del producto pantalon se ha actualizado a 10 unidades\n",
      "{'nombre': 'pantalon', 'precio': 30, 'cantidad': 10}\n"
     ]
    }
   ],
   "source": [
    "stock2 = mi_tienda.actualizar_stock(\"pantalon\", 10)"
   ]
  },
  {
   "cell_type": "code",
   "execution_count": 281,
   "metadata": {},
   "outputs": [
    {
     "name": "stdout",
     "output_type": "stream",
     "text": [
      "La cantidad del producto camisa se ha actualizado a 7 unidades\n",
      "{'nombre': 'camisa', 'precio': 20, 'cantidad': 7}\n"
     ]
    }
   ],
   "source": [
    "stock3 = mi_tienda.actualizar_stock(\"camisa\", 7)"
   ]
  },
  {
   "cell_type": "code",
   "execution_count": 282,
   "metadata": {},
   "outputs": [
    {
     "name": "stdout",
     "output_type": "stream",
     "text": [
      "El producto pantalón no existe en el inventario. Los productos en el inventario son:\n",
      " [{'nombre': 'camisa', 'precio': 20, 'cantidad': 7}, {'nombre': 'pantalon', 'precio': 30, 'cantidad': 10}, {'nombre': 'falda', 'precio': 25, 'cantidad': 17}]\n"
     ]
    }
   ],
   "source": [
    "stock4 = mi_tienda.actualizar_stock(\"pantalón\", 10)"
   ]
  },
  {
   "cell_type": "code",
   "execution_count": 283,
   "metadata": {},
   "outputs": [
    {
     "name": "stdout",
     "output_type": "stream",
     "text": [
      "El producto vestido no existe en el inventario. Los productos en el inventario son:\n",
      " [{'nombre': 'camisa', 'precio': 20, 'cantidad': 7}, {'nombre': 'pantalon', 'precio': 30, 'cantidad': 10}, {'nombre': 'falda', 'precio': 25, 'cantidad': 17}]\n"
     ]
    }
   ],
   "source": [
    "stock5 = mi_tienda.actualizar_stock(\"vestido\", 10)"
   ]
  },
  {
   "cell_type": "code",
   "execution_count": 284,
   "metadata": {},
   "outputs": [
    {
     "name": "stdout",
     "output_type": "stream",
     "text": [
      "El producto vestido no existe en el inventario\n"
     ]
    }
   ],
   "source": [
    "#Método 5. Eliminar producto\n",
    "eliminar1 = mi_tienda.eliminar_producto(\"vestido\")"
   ]
  },
  {
   "cell_type": "code",
   "execution_count": 285,
   "metadata": {},
   "outputs": [
    {
     "name": "stdout",
     "output_type": "stream",
     "text": [
      "El producto pantalon se ha eliminado con éxito\n"
     ]
    }
   ],
   "source": [
    "eliminar2 = mi_tienda.eliminar_producto(\"pantalon\")"
   ]
  },
  {
   "cell_type": "code",
   "execution_count": 286,
   "metadata": {},
   "outputs": [
    {
     "name": "stdout",
     "output_type": "stream",
     "text": [
      "nombre:camisa\n",
      "precio:20\n",
      "cantidad:7\n",
      "_________\n",
      "\n",
      "nombre:falda\n",
      "precio:25\n",
      "cantidad:17\n",
      "_________\n",
      "\n"
     ]
    }
   ],
   "source": [
    "#Método 6. Calcular el valor del inventario\n",
    "inventario = mi_tienda.ver_inventario()"
   ]
  },
  {
   "cell_type": "code",
   "execution_count": 287,
   "metadata": {},
   "outputs": [
    {
     "name": "stdout",
     "output_type": "stream",
     "text": [
      "El valor total del inventario es de 565 euros\n"
     ]
    }
   ],
   "source": [
    "valor = mi_tienda.calcular_valor_inventario()"
   ]
  },
  {
   "cell_type": "code",
   "execution_count": 288,
   "metadata": {},
   "outputs": [
    {
     "name": "stdout",
     "output_type": "stream",
     "text": [
      "Se han encontrado las siguientes coincidencias que coinciden con el patron indicado (^[a-e]\\w+): [['camisa']]\n"
     ]
    }
   ],
   "source": [
    "#Método 7. Regex\n",
    "\n",
    "patron1 = \"^[a-e]\\w+\"\n",
    "buscar_regex = mi_tienda.buscar_producto_regex(patron1)"
   ]
  },
  {
   "cell_type": "code",
   "execution_count": 289,
   "metadata": {},
   "outputs": [
    {
     "name": "stdout",
     "output_type": "stream",
     "text": [
      "Su carrito contiene los siguientes productos: {'falda': {'cantidad': 2, 'precio': 25}}\n",
      "Su carrito contiene los siguientes productos: {'falda': {'cantidad': 2, 'precio': 25}, 'camisa': {'cantidad': 3, 'precio': 20}}\n",
      "El costo total de su compra es de 110 EUR\n"
     ]
    }
   ],
   "source": [
    "#Método 8. Realizar compra\n",
    "\n",
    "compra = mi_tienda.realizar_compra()"
   ]
  },
  {
   "cell_type": "code",
   "execution_count": 290,
   "metadata": {},
   "outputs": [
    {
     "name": "stdout",
     "output_type": "stream",
     "text": [
      "El monto introducido a pagar es de 80.0 EUR\n",
      "La cantidad para pagar introducida es de 100.0 EUR\n",
      "Su pago se ha realizado correctamente. Su cambio es de 20.0 EUR. Muchas gracias por comprar con nosotros.\n"
     ]
    }
   ],
   "source": [
    "#Método 9. Procesar pago\n",
    "pago = mi_tienda.procesar_pago()"
   ]
  },
  {
   "cell_type": "code",
   "execution_count": 291,
   "metadata": {},
   "outputs": [
    {
     "name": "stdout",
     "output_type": "stream",
     "text": [
      "El cliente Elena se ha agregado con éxito\n",
      "{'Elena': {'email': 'elmguillen@gmail.com'}}\n",
      "El cliente India se ha agregado con éxito\n",
      "{'Elena': {'email': 'elmguillen@gmail.com'}, 'India': {'email': 'eyre70@gmail.com'}}\n"
     ]
    }
   ],
   "source": [
    "#Método 10 - Agregar clientes - 2 clientes\n",
    "cliente1 = mi_tienda.agregar_cliente (\"Elena\", \"elmguillen@gmail.com\")\n",
    "cliente2 = mi_tienda.agregar_cliente (\"India\", \"eyre70@gmail.com\")"
   ]
  },
  {
   "cell_type": "code",
   "execution_count": 292,
   "metadata": {},
   "outputs": [
    {
     "name": "stdout",
     "output_type": "stream",
     "text": [
      "Elena:{'email': 'elmguillen@gmail.com'}\n",
      "India:{'email': 'eyre70@gmail.com'}\n",
      "_________\n",
      "\n"
     ]
    }
   ],
   "source": [
    "#Método 11 - Ver cliente\n",
    "ver_cliente = mi_tienda.ver_cliente ()"
   ]
  },
  {
   "cell_type": "code",
   "execution_count": 293,
   "metadata": {},
   "outputs": [
    {
     "ename": "TypeError",
     "evalue": "'str' object does not support item assignment",
     "output_type": "error",
     "traceback": [
      "\u001b[0;31m---------------------------------------------------------------------------\u001b[0m",
      "\u001b[0;31mTypeError\u001b[0m                                 Traceback (most recent call last)",
      "\u001b[0;32m/tmp/ipykernel_27003/428145678.py\u001b[0m in \u001b[0;36m<module>\u001b[0;34m\u001b[0m\n\u001b[1;32m      1\u001b[0m \u001b[0;31m#Método 12 - Registrar compra\u001b[0m\u001b[0;34m\u001b[0m\u001b[0;34m\u001b[0m\u001b[0m\n\u001b[1;32m      2\u001b[0m \u001b[0mcarrito1\u001b[0m \u001b[0;34m=\u001b[0m \u001b[0;34m(\u001b[0m\u001b[0;34m\"camisa\"\u001b[0m\u001b[0;34m,\u001b[0m \u001b[0;36m20\u001b[0m\u001b[0;34m,\u001b[0m \u001b[0;36m2\u001b[0m\u001b[0;34m)\u001b[0m\u001b[0;34m\u001b[0m\u001b[0;34m\u001b[0m\u001b[0m\n\u001b[0;32m----> 3\u001b[0;31m \u001b[0mregistro_compra\u001b[0m \u001b[0;34m=\u001b[0m \u001b[0mmi_tienda\u001b[0m\u001b[0;34m.\u001b[0m\u001b[0mregistrar_compra\u001b[0m \u001b[0;34m(\u001b[0m\u001b[0;34m\"Elena\"\u001b[0m\u001b[0;34m,\u001b[0m \u001b[0mcarrito1\u001b[0m\u001b[0;34m)\u001b[0m\u001b[0;34m\u001b[0m\u001b[0;34m\u001b[0m\u001b[0m\n\u001b[0m",
      "\u001b[0;32m/tmp/ipykernel_27003/2035439234.py\u001b[0m in \u001b[0;36mregistrar_compra\u001b[0;34m(self, nombre_cliente, carrito)\u001b[0m\n\u001b[1;32m    201\u001b[0m \u001b[0;34m\u001b[0m\u001b[0m\n\u001b[1;32m    202\u001b[0m             \u001b[0;32mif\u001b[0m \u001b[0mcliente\u001b[0m \u001b[0;34m==\u001b[0m \u001b[0mnombre_cliente\u001b[0m\u001b[0;34m:\u001b[0m\u001b[0;34m\u001b[0m\u001b[0;34m\u001b[0m\u001b[0m\n\u001b[0;32m--> 203\u001b[0;31m                \u001b[0mcliente\u001b[0m\u001b[0;34m[\u001b[0m\u001b[0;34m\"historial\"\u001b[0m\u001b[0;34m]\u001b[0m \u001b[0;34m=\u001b[0m \u001b[0;34m[\u001b[0m\u001b[0mcarrito\u001b[0m\u001b[0;34m]\u001b[0m   \u001b[0;31m#A.Añado el carrito a la información del cliente en la base de datos (diccionario) de \"self-clientes\"\u001b[0m\u001b[0;34m\u001b[0m\u001b[0;34m\u001b[0m\u001b[0m\n\u001b[0m\u001b[1;32m    204\u001b[0m                \u001b[0mprint\u001b[0m \u001b[0;34m(\u001b[0m\u001b[0mself\u001b[0m\u001b[0;34m.\u001b[0m\u001b[0mclientes\u001b[0m\u001b[0;34m)\u001b[0m\u001b[0;34m\u001b[0m\u001b[0;34m\u001b[0m\u001b[0m\n\u001b[1;32m    205\u001b[0m \u001b[0;34m\u001b[0m\u001b[0m\n",
      "\u001b[0;31mTypeError\u001b[0m: 'str' object does not support item assignment"
     ]
    }
   ],
   "source": [
    "#Método 12 - Registrar compra\n",
    "carrito1 = (\"camisa\", 20, 2)\n",
    "registro_compra = mi_tienda.registrar_compra (\"Elena\", carrito1)"
   ]
  },
  {
   "cell_type": "code",
   "execution_count": 294,
   "metadata": {},
   "outputs": [
    {
     "ename": "KeyError",
     "evalue": "'historial'",
     "output_type": "error",
     "traceback": [
      "\u001b[0;31m---------------------------------------------------------------------------\u001b[0m",
      "\u001b[0;31mKeyError\u001b[0m                                  Traceback (most recent call last)",
      "\u001b[0;32m/tmp/ipykernel_27003/3000546607.py\u001b[0m in \u001b[0;36m<module>\u001b[0;34m\u001b[0m\n\u001b[1;32m      1\u001b[0m \u001b[0;31m#Método 13 - Ver compras\u001b[0m\u001b[0;34m\u001b[0m\u001b[0;34m\u001b[0m\u001b[0m\n\u001b[0;32m----> 2\u001b[0;31m \u001b[0mver_compras\u001b[0m \u001b[0;34m=\u001b[0m \u001b[0mmi_tienda\u001b[0m\u001b[0;34m.\u001b[0m\u001b[0mver_compras\u001b[0m\u001b[0;34m(\u001b[0m\u001b[0;34m\"Elena\"\u001b[0m\u001b[0;34m)\u001b[0m\u001b[0;34m\u001b[0m\u001b[0;34m\u001b[0m\u001b[0m\n\u001b[0m",
      "\u001b[0;32m/tmp/ipykernel_27003/2035439234.py\u001b[0m in \u001b[0;36mver_compras\u001b[0;34m(self, nombre_cliente)\u001b[0m\n\u001b[1;32m    221\u001b[0m \u001b[0;34m\u001b[0m\u001b[0m\n\u001b[1;32m    222\u001b[0m         \u001b[0;32mfor\u001b[0m \u001b[0mnombre_cliente\u001b[0m \u001b[0;32min\u001b[0m \u001b[0mself\u001b[0m\u001b[0;34m.\u001b[0m\u001b[0mclientes\u001b[0m\u001b[0;34m:\u001b[0m\u001b[0;34m\u001b[0m\u001b[0;34m\u001b[0m\u001b[0m\n\u001b[0;32m--> 223\u001b[0;31m             \u001b[0mhistorial_compras\u001b[0m \u001b[0;34m=\u001b[0m \u001b[0mself\u001b[0m\u001b[0;34m.\u001b[0m\u001b[0mclientes\u001b[0m\u001b[0;34m[\u001b[0m\u001b[0mnombre_cliente\u001b[0m\u001b[0;34m]\u001b[0m\u001b[0;34m[\u001b[0m\u001b[0;34m\"historial\"\u001b[0m\u001b[0;34m]\u001b[0m\u001b[0;34m\u001b[0m\u001b[0;34m\u001b[0m\u001b[0m\n\u001b[0m\u001b[1;32m    224\u001b[0m             \u001b[0mprint\u001b[0m \u001b[0;34m(\u001b[0m\u001b[0;34mf\"El historial de compras de {nombre_cliente} es {historial_compras}\"\u001b[0m\u001b[0;34m)\u001b[0m\u001b[0;34m\u001b[0m\u001b[0;34m\u001b[0m\u001b[0m\n\u001b[1;32m    225\u001b[0m             \u001b[0;32mreturn\u001b[0m\u001b[0;34m\u001b[0m\u001b[0;34m\u001b[0m\u001b[0m\n",
      "\u001b[0;31mKeyError\u001b[0m: 'historial'"
     ]
    }
   ],
   "source": [
    "#Método 13 - Ver compras\n",
    "ver_compras = mi_tienda.ver_compras(\"Elena\")"
   ]
  },
  {
   "cell_type": "code",
   "execution_count": 295,
   "metadata": {},
   "outputs": [
    {
     "ename": "AttributeError",
     "evalue": "'TiendaOnline' object has no attribute 'cliente'",
     "output_type": "error",
     "traceback": [
      "\u001b[0;31m---------------------------------------------------------------------------\u001b[0m",
      "\u001b[0;31mAttributeError\u001b[0m                            Traceback (most recent call last)",
      "\u001b[0;32m/tmp/ipykernel_27003/2118422022.py\u001b[0m in \u001b[0;36m<module>\u001b[0;34m\u001b[0m\n\u001b[1;32m      1\u001b[0m \u001b[0;31m#Método 14 - Calcular ventas totales\u001b[0m\u001b[0;34m\u001b[0m\u001b[0;34m\u001b[0m\u001b[0m\n\u001b[0;32m----> 2\u001b[0;31m \u001b[0mventas_compras\u001b[0m \u001b[0;34m=\u001b[0m \u001b[0mmi_tienda\u001b[0m\u001b[0;34m.\u001b[0m\u001b[0mcalcular_ventas_totales\u001b[0m\u001b[0;34m(\u001b[0m\u001b[0;34m)\u001b[0m\u001b[0;34m\u001b[0m\u001b[0;34m\u001b[0m\u001b[0m\n\u001b[0m",
      "\u001b[0;32m/tmp/ipykernel_27003/2035439234.py\u001b[0m in \u001b[0;36mcalcular_ventas_totales\u001b[0;34m(self)\u001b[0m\n\u001b[1;32m    230\u001b[0m \u001b[0;34m\u001b[0m\u001b[0m\n\u001b[1;32m    231\u001b[0m         \u001b[0;32mfor\u001b[0m \u001b[0mcliente\u001b[0m \u001b[0;32min\u001b[0m \u001b[0mself\u001b[0m\u001b[0;34m.\u001b[0m\u001b[0mclientes\u001b[0m\u001b[0;34m:\u001b[0m\u001b[0;34m\u001b[0m\u001b[0;34m\u001b[0m\u001b[0m\n\u001b[0;32m--> 232\u001b[0;31m             \u001b[0mcantidad_total\u001b[0m \u001b[0;34m=\u001b[0m \u001b[0mself\u001b[0m\u001b[0;34m.\u001b[0m\u001b[0mcliente\u001b[0m\u001b[0;34m[\u001b[0m\u001b[0mcliente\u001b[0m\u001b[0;34m]\u001b[0m\u001b[0;34m[\u001b[0m\u001b[0mproducto\u001b[0m\u001b[0;34m]\u001b[0m\u001b[0;34m[\u001b[0m\u001b[0;34m\"historial\"\u001b[0m\u001b[0;34m]\u001b[0m\u001b[0;34m[\u001b[0m\u001b[0;34m\"cantidad\"\u001b[0m\u001b[0;34m]\u001b[0m\u001b[0;34m\u001b[0m\u001b[0;34m\u001b[0m\u001b[0m\n\u001b[0m\u001b[1;32m    233\u001b[0m             \u001b[0mcantidad_total\u001b[0m \u001b[0;34m=\u001b[0m \u001b[0mself\u001b[0m\u001b[0;34m.\u001b[0m\u001b[0mcliente\u001b[0m\u001b[0;34m[\u001b[0m\u001b[0mcliente\u001b[0m\u001b[0;34m]\u001b[0m\u001b[0;34m[\u001b[0m\u001b[0mproducto\u001b[0m\u001b[0;34m]\u001b[0m\u001b[0;34m[\u001b[0m\u001b[0;34m\"historial\"\u001b[0m\u001b[0;34m]\u001b[0m\u001b[0;34m[\u001b[0m\u001b[0;34m\"precio\"\u001b[0m\u001b[0;34m]\u001b[0m\u001b[0;34m\u001b[0m\u001b[0;34m\u001b[0m\u001b[0m\n\u001b[1;32m    234\u001b[0m             \u001b[0mself\u001b[0m\u001b[0;34m.\u001b[0m\u001b[0mventas_totales\u001b[0m \u001b[0;34m+=\u001b[0m \u001b[0;34m(\u001b[0m\u001b[0mcantidad_carrito\u001b[0m \u001b[0;34m*\u001b[0m \u001b[0mprecio_carrito\u001b[0m\u001b[0;34m)\u001b[0m\u001b[0;34m\u001b[0m\u001b[0;34m\u001b[0m\u001b[0m\n",
      "\u001b[0;31mAttributeError\u001b[0m: 'TiendaOnline' object has no attribute 'cliente'"
     ]
    }
   ],
   "source": [
    "#Método 14 - Calcular ventas totales\n",
    "ventas_compras = mi_tienda.calcular_ventas_totales()"
   ]
  },
  {
   "cell_type": "code",
   "execution_count": null,
   "metadata": {},
   "outputs": [
    {
     "data": {
      "text/plain": [
       "'pepa@gmail.com'"
      ]
     },
     "execution_count": 25,
     "metadata": {},
     "output_type": "execute_result"
    }
   ],
   "source": [
    "diccionario2 = {\"Pepa\" : {\"email\" : \"pepa@gmail.com\"}, \"Juan\" : {\"email\" : \"juan@gmail.com\"}} \n",
    "\n",
    "diccionario2[\"Pepa\"][\"email\"] "
   ]
  },
  {
   "cell_type": "code",
   "execution_count": null,
   "metadata": {},
   "outputs": [
    {
     "data": {
      "text/plain": [
       "['pantalon', 'camisa']"
      ]
     },
     "execution_count": 30,
     "metadata": {},
     "output_type": "execute_result"
    }
   ],
   "source": [
    "diccionario1[\"Pepa\"][\"compras\"]"
   ]
  },
  {
   "cell_type": "code",
   "execution_count": null,
   "metadata": {},
   "outputs": [
    {
     "data": {
      "text/plain": [
       "'camisa'"
      ]
     },
     "execution_count": 29,
     "metadata": {},
     "output_type": "execute_result"
    }
   ],
   "source": [
    "diccionario1[\"Pepa\"][\"compras\"][1]"
   ]
  },
  {
   "cell_type": "code",
   "execution_count": null,
   "metadata": {},
   "outputs": [
    {
     "data": {
      "text/plain": [
       "[{'nombre': 'camisa', 'precio': 20, 'cantidad': 10},\n",
       " {'nombre': 'pantalon', 'precio': 30, 'cantidad': 5}]"
      ]
     },
     "execution_count": 44,
     "metadata": {},
     "output_type": "execute_result"
    }
   ],
   "source": [
    "test = [{\"nombre\" : \"camisa\", \"precio\": 20, \"cantidad\": 10}, {\"nombre\" : \"pantalon\", \"precio\": 30, \"cantidad\": 5}]\n",
    "test"
   ]
  },
  {
   "cell_type": "code",
   "execution_count": null,
   "metadata": {},
   "outputs": [
    {
     "data": {
      "text/plain": [
       "'camisa'"
      ]
     },
     "execution_count": 50,
     "metadata": {},
     "output_type": "execute_result"
    }
   ],
   "source": [
    "test[0][\"nombre\"]\n"
   ]
  },
  {
   "cell_type": "code",
   "execution_count": null,
   "metadata": {},
   "outputs": [
    {
     "data": {
      "text/plain": [
       "'pantalon'"
      ]
     },
     "execution_count": 49,
     "metadata": {},
     "output_type": "execute_result"
    }
   ],
   "source": [
    "test[1][\"nombre\"]"
   ]
  }
 ],
 "metadata": {
  "kernelspec": {
   "display_name": "base",
   "language": "python",
   "name": "python3"
  },
  "language_info": {
   "codemirror_mode": {
    "name": "ipython",
    "version": 3
   },
   "file_extension": ".py",
   "mimetype": "text/x-python",
   "name": "python",
   "nbconvert_exporter": "python",
   "pygments_lexer": "ipython3",
   "version": "3.9.7"
  }
 },
 "nbformat": 4,
 "nbformat_minor": 2
}
